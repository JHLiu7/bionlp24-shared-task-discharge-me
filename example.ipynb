{
 "cells": [
  {
   "cell_type": "markdown",
   "id": "2b6e060b-8e53-43cd-86cb-9f83e49361d4",
   "metadata": {},
   "source": [
    "# Generate Discharge Summary Sections with the Trained Checkpoints\n",
    "\n",
    "This notebook loads model trained for [\"Discharge Me!\" Shared Task](https://stanford-aimi.github.io/discharge-me/) by e-Health CSIRO and shows how to make inferences on samples from the validation set. The inference setup is the same as used for the final shared task submission.\n",
    "\n",
    "Checkpoints can also be found at the [repo](https://github.com/JHLiu7/bionlp24-shared-task-discharge-me)."
   ]
  },
  {
   "cell_type": "code",
   "execution_count": 1,
   "id": "f2859c2f-c5e9-4b99-9046-9b3668395052",
   "metadata": {},
   "outputs": [],
   "source": [
    "import datasets\n",
    "import evaluate\n",
    "import numpy as np\n",
    "import pandas as pd\n",
    "from tqdm import tqdm\n",
    "from datasets import load_dataset\n",
    "\n",
    "import transformers\n",
    "import logging\n",
    "import re\n",
    "import sys\n",
    "import torch\n",
    "\n",
    "from transformers import (\n",
    "    AutoModelForSeq2SeqLM,\n",
    "    AutoModelForCausalLM,\n",
    "    AutoTokenizer, \n",
    "    pipeline\n",
    ")\n",
    "\n",
    "from peft import LoraConfig, get_peft_model, PeftModelForCausalLM"
   ]
  },
  {
   "cell_type": "markdown",
   "id": "28fc39b8-17ca-4136-8904-4fc5a1f0b7a7",
   "metadata": {},
   "source": [
    "## 1. Prepare data\n",
    "We use the validation set for illustration of how we prepared and used the data. Our models use the prior content of the target sections (`discharge instruction` (`DI`) and `brief hospital course` (`BHC`)) as input context for the generation task. To prepare the data, we \n",
    "\n",
    "1. Follow the official repo that uses an updated method to extract `BHC` (`DI` is the same as the released file as of v1.3);\n",
    "2. We extract the contents before `DI` and `BHC` respectively and use them as the corresponding source context for each target section."
   ]
  },
  {
   "cell_type": "code",
   "execution_count": 2,
   "id": "ca6763bc-2b2b-437e-81e7-61659ba59a90",
   "metadata": {},
   "outputs": [
    {
     "name": "stdout",
     "output_type": "stream",
     "text": [
      "14719\n",
      "14719\n",
      "14719\n"
     ]
    }
   ],
   "source": [
    "fold = 'valid'\n",
    "df_val_text = pd.read_csv(f'./physionet.org/files/discharge-me/1.3/{fold}/discharge.csv.gz').sort_values(by=['hadm_id'])\n",
    "df_val_target = pd.read_csv(f'./physionet.org/files/discharge-me/1.3/{fold}/discharge_target.csv.gz').sort_values(by=['hadm_id'])\n",
    "df_val_rad = pd.read_csv(f'./physionet.org/files/discharge-me/1.3/{fold}/radiology.csv.gz').sort_values(by=['hadm_id'])\n",
    "\n",
    "\n",
    "print(df_val_text.hadm_id.nunique())\n",
    "print(df_val_target.hadm_id.nunique())\n",
    "print(df_val_rad.hadm_id.nunique())"
   ]
  },
  {
   "cell_type": "code",
   "execution_count": 3,
   "id": "cdcde943-5d21-4af7-a4c4-9dbc48fcdc59",
   "metadata": {},
   "outputs": [],
   "source": [
    "# New method to extract bhc\n",
    "# from https://colab.research.google.com/drive/1yW-29KcDYoswMrqwjEMO6l6i2Ll3p5BX?usp=sharing\n",
    "# see https://www.codabench.org/forums/1927/275/\n",
    "from collections import OrderedDict\n",
    "input_sections = OrderedDict([\n",
    "    ('Brief Hospital Course', 'Brief Hospital Course'),\n",
    "    ('Medications on Admission', '[A-Za-z_]+ on Admission'),\n",
    "    ('Discharge Medications', '[A-Za-z_]+ Medications'),\n",
    "    ('Discharge Disposition', '[A-Za-z_]+ Disposition'),\n",
    "    ('Discharge Diagnosis', '[A-Za-z_]+ Diagnosis'),\n",
    "    ('Discharge Condition', '[A-Za-z_]+ Condition')\n",
    "])\n",
    "\n",
    "\n",
    "def parse_brief_hospital_course(row):\n",
    "    discharge_summary = row['text']\n",
    "    section_name = 'Brief Hospital Course'\n",
    "    section = input_sections.get(section_name)\n",
    "    for next_section in list(input_sections.values())[1:]:\n",
    "        search = re.findall(section + \".+\\n\" + next_section, discharge_summary, re.DOTALL)\n",
    "        if len(search) > 0:\n",
    "            break\n",
    "    rex = r'(%s?):\\s*\\n{0,2}(.+?)\\s*(\\n\\s*){1,10}(%s):\\n' % (section, next_section)\n",
    "\n",
    "    section_ext = re.findall(rex, discharge_summary, re.DOTALL)\n",
    "    if len(section_ext) > 0:\n",
    "        return section_ext[-1][1]\n",
    "    else:\n",
    "        return None"
   ]
  },
  {
   "cell_type": "code",
   "execution_count": 4,
   "id": "d643648b-d512-42f1-825a-ba920bb6820c",
   "metadata": {},
   "outputs": [],
   "source": [
    "df_val_text['brief_hospital_course'] = df_val_text.apply(parse_brief_hospital_course, axis=1)\n"
   ]
  },
  {
   "cell_type": "code",
   "execution_count": 5,
   "id": "358302db-52eb-44db-bf2e-42f4cc9a42b5",
   "metadata": {},
   "outputs": [],
   "source": [
    "# slice notes and use prior ctx as input\n",
    "\n",
    "def _query_hadm(hadm, df, col):\n",
    "    row = df[df['hadm_id'] == hadm]\n",
    "    assert len(row) == 1\n",
    "    return row[col].iloc[0]\n",
    "\n",
    "def _get_notes(hadm, df_text, df_target, df_rad):\n",
    "    dnote = _query_hadm(hadm, df_text, 'text')\n",
    "    bhc = _query_hadm(hadm, df_text, 'brief_hospital_course') # new extraction\n",
    "    di = _query_hadm(hadm, df_target, 'discharge_instructions')\n",
    "    return dnote, bhc, di\n",
    "\n",
    "def process_hadm(hadm, df_text, df_target, df_rad):\n",
    "\n",
    "    dnote = _query_hadm(hadm, df_text, 'text')\n",
    "    di = _query_hadm(hadm, df_target, 'discharge_instructions')\n",
    "    \n",
    "    bhc = _query_hadm(hadm, df_text, 'brief_hospital_course') # new extraction\n",
    "\n",
    "    # prepare dnote, bhc, di\n",
    "    dnote = re.sub(r'Brief Hospital Course:\\s*', 'Brief Hospital Course: ', dnote)\n",
    "    dnote = re.sub(r'Discharge Instructions:\\s*', 'Discharge Instructions: ', dnote)\n",
    "\n",
    "    if \"Brief Hospital Course:\" not in bhc:\n",
    "        bhc = \"Brief Hospital Course: \" + bhc\n",
    "    else:\n",
    "        bhc = re.sub(r'Brief Hospital Course:\\s*', 'Brief Hospital Course: ', bhc)\n",
    "    if \"Discharge Instructions:\" not in di:\n",
    "        di = \"Discharge Instructions: \"+di\n",
    "    else:\n",
    "        di = re.sub(r'Discharge Instructions:\\s*', 'Discharge Instructions: ', di)\n",
    "\n",
    "    assert dnote.find(bhc) > 0, hadm\n",
    "    assert dnote.find(di) > 0, hadm\n",
    "\n",
    "    # slice dnote\n",
    "    ctx_bhc, rgt_bhc = dnote.split(bhc)\n",
    "    ctx_di_long, _ = dnote.split(di) # use all prior content as input for di\n",
    "    ctx_di_short, _ = dnote.replace(ctx_bhc, '').split(di) #[0] # use content between bhc (included) and di as input\n",
    "\n",
    "    # get rad reports\n",
    "    rad = df_rad[df_rad['hadm_id'] == hadm].sort_values(by='charttime', ascending=False) # keep latest first\n",
    "    ctx_rad = '\\n'.join(rad['text'].tolist())\n",
    "\n",
    "    # collect\n",
    "    return {\n",
    "        'source-bhc-dnote': ctx_bhc,\n",
    "        'source-bhc-dnote_rad': '\\n'.join([ctx_bhc, ctx_rad]),\n",
    "        \n",
    "        'source-di-dnote': ctx_di_short,\n",
    "        'source-di-dnote_rad': '\\n'.join([ctx_di_short, ctx_rad]),\n",
    "        \n",
    "        'source-rad': ctx_rad,\n",
    "        \n",
    "        'target-bhc': bhc,\n",
    "        'target-di': di,\n",
    "\n",
    "        'hadm_id': hadm\n",
    "    }\n",
    "\n",
    "def process_fold(df_text, df_target, df_rad):\n",
    "\n",
    "    data = []\n",
    "\n",
    "    assert len(df_text) == len(df_target)\n",
    "\n",
    "    hadms = df_target.hadm_id.tolist()\n",
    "\n",
    "    for hadm in tqdm(hadms):\n",
    "        data.append(\n",
    "            process_hadm(\n",
    "                hadm=hadm, \n",
    "                df_target=df_target,\n",
    "                df_text=df_text,\n",
    "                df_rad=df_rad,\n",
    "            )\n",
    "        )\n",
    "    \n",
    "    return pd.DataFrame(data)"
   ]
  },
  {
   "cell_type": "code",
   "execution_count": 6,
   "id": "56236041-7aca-486b-a6b7-c02bc256875d",
   "metadata": {},
   "outputs": [
    {
     "name": "stderr",
     "output_type": "stream",
     "text": [
      "100%|██████████| 14719/14719 [00:16<00:00, 895.29it/s]\n"
     ]
    }
   ],
   "source": [
    "new_df_val = process_fold(df_val_text, df_val_target, df_val_rad)"
   ]
  },
  {
   "cell_type": "code",
   "execution_count": 7,
   "id": "6ed81e98-f6a2-4f69-af66-e034d51caa99",
   "metadata": {},
   "outputs": [
    {
     "data": {
      "text/plain": [
       "Dataset({\n",
       "    features: ['source-bhc-dnote', 'source-bhc-dnote_rad', 'source-di-dnote', 'source-di-dnote_rad', 'source-rad', 'target-bhc', 'target-di', 'hadm_id'],\n",
       "    num_rows: 14719\n",
       "})"
      ]
     },
     "execution_count": 7,
     "metadata": {},
     "output_type": "execute_result"
    }
   ],
   "source": [
    "val_dataset = datasets.Dataset.from_pandas(new_df_val)\n",
    "val_dataset"
   ]
  },
  {
   "cell_type": "markdown",
   "id": "2c6b89f5-0ffa-4910-9073-c8e37f9b001a",
   "metadata": {},
   "source": [
    "## 2. Generate `Brief Hospital Course`\n",
    "\n",
    "Here we load the trained models for generating `BHC`. Similar to our paper, we set the maximum length of the generated section to `1280` tokens. But for PRIMERA, this will automatically be set to 1024 due to the model limit."
   ]
  },
  {
   "cell_type": "code",
   "execution_count": 8,
   "id": "a03ac147-e667-46b4-b9c2-1ff26be9177c",
   "metadata": {},
   "outputs": [],
   "source": [
    "SECTION = 'bhc'\n",
    "MAX_LEN = 1280\n",
    "\n",
    "text_column = f'source-{SECTION}-dnote'\n",
    "summary_column = f'target-{SECTION}'\n",
    "\n",
    "all_columns = val_dataset.column_names\n",
    "columns_to_remove = [col for col in all_columns if col not in [text_column, summary_column]]\n",
    "\n",
    "bhc_val_dataset = val_dataset \\\n",
    "        .select(range(100)) \\\n",
    "        .remove_columns(columns_to_remove) "
   ]
  },
  {
   "cell_type": "markdown",
   "id": "59785a0c-fd70-453d-bef2-edcf0a3ea70e",
   "metadata": {},
   "source": [
    "### 2.1. Using decoder-only model\n",
    "We load and use Llama-3 and our fine-tuned LoRA module for `BHC`. "
   ]
  },
  {
   "cell_type": "code",
   "execution_count": 9,
   "id": "98a3806e-a08e-4412-8af0-104584db2e11",
   "metadata": {},
   "outputs": [
    {
     "name": "stderr",
     "output_type": "stream",
     "text": [
      "Special tokens have been added in the vocabulary, make sure the associated word embeddings are fine-tuned or trained.\n"
     ]
    },
    {
     "data": {
      "application/vnd.jupyter.widget-view+json": {
       "model_id": "0f2263aff53b4070916bfe767b4a950a",
       "version_major": 2,
       "version_minor": 0
      },
      "text/plain": [
       "Loading checkpoint shards:   0%|          | 0/4 [00:00<?, ?it/s]"
      ]
     },
     "metadata": {},
     "output_type": "display_data"
    }
   ],
   "source": [
    "model_id = 'meta-llama/Meta-Llama-3-8B'\n",
    "cache_dir = f'/scratch3/liu217/Llama/{model_id}' # you may want to change this accordingly\n",
    "\n",
    "tokenizer = AutoTokenizer.from_pretrained(\n",
    "    model_id, cache_dir=cache_dir, padding_side='left'\n",
    ")\n",
    "tokenizer.pad_token = tokenizer.eos_token\n",
    "\n",
    "model = AutoModelForCausalLM.from_pretrained(\n",
    "    model_id,\n",
    "    torch_dtype = torch.bfloat16,\n",
    "    device_map='auto',\n",
    "    # attn_implementation=\"flash_attention_2\", # you can choose to use flash attn \n",
    "    cache_dir=cache_dir\n",
    ")"
   ]
  },
  {
   "cell_type": "code",
   "execution_count": 10,
   "id": "cd62bac6-d744-4578-bd77-e970660efdd1",
   "metadata": {},
   "outputs": [],
   "source": [
    "# load and merge lora\n",
    "adapter_path = 'jhliu/DischargeGen-Llama3-lora-BHC/'\n",
    "\n",
    "model = PeftModelForCausalLM.from_pretrained(model, adapter_path, adapter_name=\"main\")\n",
    "model = model.merge_and_unload()\n",
    "\n",
    "pipe = pipeline('text-generation', tokenizer=tokenizer, model=model)"
   ]
  },
  {
   "cell_type": "markdown",
   "id": "109175ec-27e5-4f4f-b3b1-d10ac990e955",
   "metadata": {},
   "source": [
    "We format the input using the prompt template as below, and use the `transformers` pipeline for inference."
   ]
  },
  {
   "cell_type": "code",
   "execution_count": 11,
   "id": "df343246-6480-4f69-bf48-80954267c62a",
   "metadata": {},
   "outputs": [],
   "source": [
    "TEMPLATE_BHC = \\\n",
    "'''Summarize the below clinical text into a section of brief hospital course.\n",
    "    \n",
    "### Input:\n",
    "{input_text}\n",
    "\n",
    "### Summary:\n",
    "'''\n",
    "\n",
    "TEMPLATE_DI = \\\n",
    "'''Summarize the below clinical text into a section of discharge instruction.\n",
    "    \n",
    "### Input:\n",
    "{input_text}\n",
    "\n",
    "### Summary:\n",
    "'''\n",
    "\n",
    "def inference_dec(input_text):\n",
    "    TEMPLATE = TEMPLATE_DI if SECTION == 'di' else TEMPLATE_BHC\n",
    "    prompt = TEMPLATE.format(input_text=input_text)\n",
    "    \n",
    "    gen = pipe(prompt, max_new_tokens=MAX_LEN, do_sample=False)\n",
    "    assert len(gen) == 1\n",
    "    output = gen[0]['generated_text'][len(prompt):]\n",
    "    return output"
   ]
  },
  {
   "cell_type": "code",
   "execution_count": 12,
   "id": "3331768e-d360-4257-bf0b-ac09471064b6",
   "metadata": {
    "scrolled": true
   },
   "outputs": [
    {
     "name": "stderr",
     "output_type": "stream",
     "text": [
      "/scratch3/liu217/envs/discharge/lib/python3.10/site-packages/transformers/generation/configuration_utils.py:492: UserWarning: `do_sample` is set to `False`. However, `temperature` is set to `0.6` -- this flag is only used in sample-based generation modes. You should set `do_sample=True` or unset `temperature`.\n",
      "  warnings.warn(\n",
      "/scratch3/liu217/envs/discharge/lib/python3.10/site-packages/transformers/generation/configuration_utils.py:497: UserWarning: `do_sample` is set to `False`. However, `top_p` is set to `0.9` -- this flag is only used in sample-based generation modes. You should set `do_sample=True` or unset `top_p`.\n",
      "  warnings.warn(\n"
     ]
    },
    {
     "name": "stdout",
     "output_type": "stream",
     "text": [
      "Brief Hospital Course: The patient presented to the emergency department and was  evaluated by the orthopedic surgery team. The patient was found  to have a left femur fracture and left pilon fracture and was  admitted to the orthopedic surgery service. The patient was  taken to the operating room on ___ for left femur retrograde  nail and left pilon external fixation, which the patient  tolerated well. For full details of the procedure please see the  separately dictated operative report. The patient was taken from  the OR to the PACU in stable condition and after satisfactory  recovery from anesthesia was transferred to the floor. The  patient was initially given IV fluids and IV pain medications,  and progressed to a regular diet and oral medications by POD#1.  The patient was given ___ antibiotics and  anticoagulation per routine. The patient's home medications were  continued throughout this hospitalization. The patient worked  with ___ who determined that discharge to rehab was appropriate.  The ___ hospital course was otherwise unremarkable.  At the time of discharge the patient's pain was well controlled  with oral medications, incisions were clean/dry/intact, and the  patient was voiding/moving bowels spontaneously. The patient is  nonweightbearing in the left lower extremity, and will be  discharged on Lovenox for DVT prophylaxis. The patient will  follow up with Dr. ___ routine. A thorough discussion  was had with the patient regarding the diagnosis and expected  post-discharge course including reasons to call the office or  return to the hospital, and all questions were answered. The  patient was also given written instructions concerning  precautionary instructions and the appropriate follow-up care.  The patient expressed readiness for discharge.\n",
      "Patient was admitted to the trauma ICU for close monitoring. He  was found to have a small left pneumothorax and a small left  hemothorax. He was placed on a nonrebreather and his oxygen  saturations were maintained. He was also found to have a small  left subcapsular liver laceration. He was hemodynamically  stable. He was transferred to the floor on HD2.  He was seen and evaluated by the acute care surgery team. He  was found to have a small left pneumothorax and a small left  hemothorax. He was placed on a nonrebreather and his oxygen  saturations were maintained. He was also found to have a small  left subcapsular liver laceration. He was hemodynamically  stable. He was transferred to the floor on HD2.  He was seen and evaluated by the acute care surgery team. He  was found to have a small left pneumothorax and a small left  hemothorax. He was placed on a nonrebreather and his oxygen  saturations were maintained. He was also found to have a small  left subcapsular liver laceration. He was hemodynamically  stable. He was transferred to the floor on HD2.  He was seen and evaluated by the acute care surgery team. He  was found to have a small left pneumothorax and a small left  hemothorax. He was placed on a nonrebreather and his oxygen  saturations were maintained. He was also found to have a small  left subcapsular liver laceration. He was hemodynamically  stable. He was transferred to the floor on HD2.  He was seen and evaluated by the acute care surgery team. He  was found to have a small left pneumothorax and a small left  hemothorax. He was placed on a nonrebreather and his oxygen  saturations were maintained. He was also found to have a small  left subcapsular liver laceration. He was hemodynamically  stable. He was transferred to the floor on HD2.  He was seen and evaluated by the acute care surgery team. He  was found to have a small left pneumothorax and a small left  hemothorax. He was placed on a nonrebreather and his oxygen  saturations were maintained. He was also found to have a small  left subcapsular liver laceration. He was hemodynamically  stable. He was transferred to the floor on HD2.  He was seen and evaluated by the acute care surgery team. He  was found to have a small left pneumothorax and a small left  hemothorax. He was placed on a nonrebreather and his oxygen  saturations were maintained. He was also found to have a small  left subcapsular liver laceration. He was hemodynamically  stable. He was transferred to the floor on HD2.  He was seen and evaluated by the acute care surgery team. He  was found to have a small left pneumothorax and a small left  hemothorax. He was placed on a nonrebreather and his oxygen  saturations were maintained. He was also found to have a small  left subcapsular liver laceration. He was hemodynamically  stable. He was transferred to the floor on HD2.  He was seen and evaluated by the acute care surgery team. He  was found to have a small left pneumothorax and a small left  hemothorax. He was placed on a nonrebreather and his oxygen  saturations were maintained. He was also found to have a small  left subcapsular liver laceration. He was hemodynamically  stable. He was transferred to the floor on HD2.  He was seen and evaluated by the acute care surgery team. He  was found to have a small left pneumothorax and a small left  hemothorax. He was placed on a nonrebreather and his oxygen  saturations were maintained. He was also found to have a small  left subcapsular liver laceration. He was hemodynamically  stable. He was transferred to the floor on HD2.  He was seen and evaluated by the acute care surgery team. He  was found to have a small left pneum\n"
     ]
    }
   ],
   "source": [
    "print(inference_dec(bhc_val_dataset[text_column][20]))"
   ]
  },
  {
   "cell_type": "markdown",
   "id": "1140d85c-5bac-4a5d-b994-8ab8466743f2",
   "metadata": {},
   "source": [
    "### 2.2. Using encoder-decoder model\n",
    "We load and use the fully fine-tuned PRIMERA for `DI`. "
   ]
  },
  {
   "cell_type": "code",
   "execution_count": 13,
   "id": "a982a139-0718-4ed7-80d8-c6e4684e28b0",
   "metadata": {
    "scrolled": true
   },
   "outputs": [],
   "source": [
    "model_id = 'jhliu/DischargeGen-PRIMERA-BHC'\n",
    "\n",
    "tokenizer_s2s = AutoTokenizer.from_pretrained(model_id, cache_dir='cache')\n",
    "model_s2s = AutoModelForSeq2SeqLM.from_pretrained(model_id, cache_dir='cache').eval().cuda()"
   ]
  },
  {
   "cell_type": "code",
   "execution_count": 14,
   "id": "9eca2ded-1d50-4ccb-9b9b-057de86d6c58",
   "metadata": {},
   "outputs": [],
   "source": [
    "def inference_s2s(input_text):\n",
    "    model_inputs = tokenizer_s2s(input_text, max_length=4096, return_tensors='pt',\n",
    "                             padding=False, truncation=True)\n",
    "\n",
    "    input_ids = model_inputs['input_ids'].to('cuda')\n",
    "    attention_mask = model_inputs['attention_mask'].to('cuda')\n",
    "\n",
    "    out = model_s2s.generate(\n",
    "        input_ids=input_ids,\n",
    "        attention_mask=attention_mask,\n",
    "        max_new_tokens=MAX_LEN,\n",
    "    )\n",
    "\n",
    "    output = tokenizer_s2s.batch_decode(out, skip_special_tokens=True, clean_up_tokenization_spaces=True)\n",
    "    assert len(output) == 1\n",
    "    return output[0].replace('\\n', ' ')"
   ]
  },
  {
   "cell_type": "code",
   "execution_count": 15,
   "id": "58ced897-56f6-43e0-8cd1-06824fa8765b",
   "metadata": {},
   "outputs": [
    {
     "name": "stderr",
     "output_type": "stream",
     "text": [
      "Input ids are automatically padded from 445 to 512 to be a multiple of `config.attention_window`: 512\n"
     ]
    },
    {
     "name": "stdout",
     "output_type": "stream",
     "text": [
      "Brief Hospital Course: The patient presented to the emergency department and was evaluated by the orthopedic  surgery team. The patient was found to have a left femur fracture and was admitted to the  orthopedic surgery service. The orthopedics team was consulted for operative  repair. The medicine team was also consulted for management of his bipolar disorder and  anxiety. The patients home medications were continued throughout this hospitalization. The  patient was taken to the operating room on ___ for L femur retrograde nail, L pilon  ex-fix, which the patient tolerated well. For full details of the procedure please see  the separately dictated operative report. The left femoral nail was placed retrograde  nail, L pin on ex-fix. The lateral pin site was dry and the patient was placed in a  splint. The ___ hospital course was otherwise unremarkable.  At the time of discharge the patient's pain was well controlled with oral medications,  incisions were clean/dry/intact, and the LLE was neurovascularly intact. The pt is  nonweightbearing in the left lower extremity, and will be discharged on lovenox for DVT  prophylaxis. The plan is to keep the ex fix in place for 2 weeks. The procedure was  complicated by a small amount of bleeding from the lateral pin sites. The pin sites  were irrigated and the bleeding stopped. The incision was clean/ dry/intraoperatively. The patient will follow up with Dr. ___ routine. A thorough discussion was had  with the patient regarding the diagnosis and expected post-discharge course  including reasons to call the office or return to the hospital, and all questions  answered. The hospital was also given written instructions concerning precautionary  instructions and the appropriate follow-up care. The discharge plan was discussed  extensively with the patient and his family. The family expressed understanding  and agreement with the discharge plan.\n"
     ]
    }
   ],
   "source": [
    "print(inference_s2s(bhc_val_dataset[text_column][20]))"
   ]
  },
  {
   "cell_type": "markdown",
   "id": "252300b2-ea72-42ea-b083-661a292e25be",
   "metadata": {},
   "source": [
    "## 3. Generate `Discharge Instruction`\n",
    "\n",
    "Here we load the trained models for generating `DI`. Similar to our paper, we set the maximum length of the generated section to `512` tokens."
   ]
  },
  {
   "cell_type": "code",
   "execution_count": 16,
   "id": "8f7742d1-1d28-4f81-b986-58413c1ed82c",
   "metadata": {},
   "outputs": [],
   "source": [
    "SECTION = 'di'\n",
    "MAX_LEN = 512\n",
    "\n",
    "text_column = f'source-{SECTION}-dnote'\n",
    "summary_column = f'target-{SECTION}'\n",
    "\n",
    "all_columns = val_dataset.column_names\n",
    "columns_to_remove = [col for col in all_columns if col not in [text_column, summary_column]]\n",
    "\n",
    "di_val_dataset = val_dataset \\\n",
    "        .select(range(100)) \\\n",
    "        .remove_columns(columns_to_remove) \n"
   ]
  },
  {
   "cell_type": "markdown",
   "id": "1f40e10b-aae9-460b-9187-8cc5e74aafd0",
   "metadata": {},
   "source": [
    "### 3.1. Using decoder-only model (Llama-3)"
   ]
  },
  {
   "cell_type": "code",
   "execution_count": 17,
   "id": "a790f5c7-c2eb-4121-b3b1-34710a49cbe4",
   "metadata": {},
   "outputs": [
    {
     "name": "stderr",
     "output_type": "stream",
     "text": [
      "Special tokens have been added in the vocabulary, make sure the associated word embeddings are fine-tuned or trained.\n"
     ]
    },
    {
     "data": {
      "application/vnd.jupyter.widget-view+json": {
       "model_id": "46a6a35e52864789a1aa58740507b7f3",
       "version_major": 2,
       "version_minor": 0
      },
      "text/plain": [
       "Loading checkpoint shards:   0%|          | 0/4 [00:00<?, ?it/s]"
      ]
     },
     "metadata": {},
     "output_type": "display_data"
    }
   ],
   "source": [
    "model_id = 'meta-llama/Meta-Llama-3-8B'\n",
    "cache_dir = f'/scratch3/liu217/Llama/{model_id}' # you may want to change this accordingly\n",
    "\n",
    "tokenizer = AutoTokenizer.from_pretrained(\n",
    "    model_id, cache_dir=cache_dir, padding_side='left'\n",
    ")\n",
    "tokenizer.pad_token = tokenizer.eos_token\n",
    "\n",
    "model = AutoModelForCausalLM.from_pretrained(\n",
    "    model_id,\n",
    "    torch_dtype = torch.bfloat16,\n",
    "    device_map='auto',\n",
    "    # attn_implementation=\"flash_attention_2\", # you can choose to use flash attn \n",
    "    cache_dir=cache_dir\n",
    ")"
   ]
  },
  {
   "cell_type": "code",
   "execution_count": 18,
   "id": "25d764e9-354f-4f65-b475-f9e82d4dece3",
   "metadata": {},
   "outputs": [],
   "source": [
    "# load and merge lora\n",
    "adapter_path = 'jhliu/DischargeGen-Llama3-lora-DI/'\n",
    "\n",
    "model = PeftModelForCausalLM.from_pretrained(model, adapter_path, adapter_name=\"main\")\n",
    "model = model.merge_and_unload()\n",
    "\n",
    "pipe = pipeline('text-generation', tokenizer=tokenizer, model=model)"
   ]
  },
  {
   "cell_type": "code",
   "execution_count": 19,
   "id": "30f73742-8e8a-40d0-8a6f-5e304463b4fd",
   "metadata": {},
   "outputs": [
    {
     "name": "stdout",
     "output_type": "stream",
     "text": [
      "Discharge Instructions:\n",
      "Dear Ms. ___,   You were hospitalized due to symptoms of visual deficit and  unsteady gait resulting from an ACUTE ISCHEMIC STROKE, a  condition where a blood vessel providing oxygen and nutrients to  the brain is blocked by a clot. The brain is the part of your  body that controls and directs all the other parts of your body,  so damage to the brain from being deprived of its blood supply  can result in a variety of symptoms.   Stroke can have many different causes, so we assessed you for  medical conditions that might raise your risk of having stroke.  In order to prevent future strokes, we plan to modify those risk  factors. Your risk factors are:   - atrial fibrillation - high blood pressure - high cholesterol  We are changing your medications as follows:   - continue your Coumadin as previously prescribed - take aspirin 81mg daily for one week, then stop  Please take your other medications as prescribed.   Please followup with Neurology and your primary care physician  as listed below.   If you experience any of the symptoms below, please seek  emergency medical attention by calling Emergency Medical  Services (dialing 911). In particular, since stroke can recur,  please pay attention to the sudden onset and persistence of  these symptoms:   - sudden partial or complete loss of vision   - sudden loss of the ability to speak words from your mouth   - sudden loss of the ability to understand others speaking to  you   - sudden weakness of one side of the body   - sudden drooping of one side of the face   - sudden loss of sensation of one side of the body   - sudden difficulty pronouncing words (slurring of speech)   - sudden blurring or doubling of vision   - sudden onset of vertigo (sensation of your environment  spinning around you)   - sudden clumsiness of the arm and leg on one side or sudden  tendency to fall to one side (left or right)   - sudden severe headache accompanied by the inability to stay  awake   It was a pleasure providing you with care during this  hospitalization.\n",
      "Weigh yourself every morning, call MD if weight goes up more than  3 lbs.\n",
      "Sincerely, Your ___ Neurology Team\n",
      "\n"
     ]
    }
   ],
   "source": [
    "print(inference_dec(di_val_dataset[text_column][5]))"
   ]
  },
  {
   "cell_type": "markdown",
   "id": "44fef7c4-443a-4faf-b72d-46ee0707a07e",
   "metadata": {},
   "source": [
    "### 3.2. Using encoder-decoder model (PRIMERA)"
   ]
  },
  {
   "cell_type": "code",
   "execution_count": 20,
   "id": "58888772-1823-4551-aa0d-fd2602ecc602",
   "metadata": {},
   "outputs": [],
   "source": [
    "model_id = 'jhliu/DischargeGen-PRIMERA-DI'\n",
    "\n",
    "tokenizer_s2s = AutoTokenizer.from_pretrained(model_id, cache_dir='cache')\n",
    "model_s2s = AutoModelForSeq2SeqLM.from_pretrained(model_id, cache_dir='cache').eval().cuda()"
   ]
  },
  {
   "cell_type": "code",
   "execution_count": 21,
   "id": "96f3215c-a0c7-4295-a45a-4ee450578043",
   "metadata": {},
   "outputs": [
    {
     "name": "stderr",
     "output_type": "stream",
     "text": [
      "Input ids are automatically padded from 1264 to 1536 to be a multiple of `config.attention_window`: 512\n"
     ]
    },
    {
     "name": "stdout",
     "output_type": "stream",
     "text": [
      "Discharge Instructions: Dear Ms. ___,   You were hospitalized due to symptoms of vision  changes resulting from an ACUTE ISCHEMIC STROKE, a  condition where a blood vessel providing oxygen and  nutrients to the brain is blocked by a clot. The brain is  the part of your body that controls and directs all the  other parts of your life, so damage to thebrain from being  deprived of its blood supply can result in a variety  of symptoms.     Stroke can have many different causes, so we assessed  you for medical conditions that might raise your risk   of having stroke. In order to prevent future strokes,  we plan to modify those risk factors. Your risk factors  are:   Atrial fibrillation     We are changing your medications as follows:    - Please continue taking your Coumadin as prescribed.  Please have your INR checked on ___. If it is   below  therapeutic (___), please instruct your doctor to  stop your aspirin 81mg (for bridging). If not therapeutic,    Please take your other medications as prescribed,  and   we   ask that you follow up with Neurology and your primary  care physician as listed below.  We also recommend that  your family members weigh themselves every morning, and    call your doctor if your weight goes up more than 3 lbs.  If you experience any of the symptoms below, please seek  emergency medical attention by calling Emergency Medical  Services (dialing 911). In particular, since stroke can recur,    please pay attention to the sudden onset and persistence   of these symptoms:    - Sudden partial or complete loss of vision  - S sudden loss of the ability to speak words from your mouth   - s sudden loss ability to understand others speaking to    you   -- S sudden weakness of one side of the body   * S sudden drooping of one end of the face   / S sudden inability to stay ahead of others   Sincerely,  ___ Neurology Team\n"
     ]
    }
   ],
   "source": [
    "print(inference_s2s(di_val_dataset[text_column][5]))\n"
   ]
  },
  {
   "cell_type": "markdown",
   "id": "dddfdfd6-dbe3-4121-b160-8840d18b11dd",
   "metadata": {},
   "source": [
    "## 4. Compare the two models"
   ]
  },
  {
   "cell_type": "code",
   "execution_count": 22,
   "id": "e44889af-c0e0-46ac-9b8c-62b41872800a",
   "metadata": {},
   "outputs": [
    {
     "name": "stdout",
     "output_type": "stream",
     "text": [
      "################################################## Llama-3 ##################################################\n"
     ]
    },
    {
     "name": "stderr",
     "output_type": "stream",
     "text": [
      "Input ids are automatically padded from 1609 to 2048 to be a multiple of `config.attention_window`: 512\n"
     ]
    },
    {
     "name": "stdout",
     "output_type": "stream",
     "text": [
      "Discharge Instructions:\n",
      "Dear Ms. ___,  \n",
      "You were hospitalized due to symptoms of slurred speech and right  sided weakness resulting from an ACUTE ISCHEMIC STROKE, a  condition where a blood vessel providing oxygen and nutrients to  the brain is blocked by a clot. The brain is the part of your  body that controls and directs all the other parts of your body,  so damage to the brain from being deprived of its blood supply  can result in a variety of symptoms.  \n",
      "Stroke can have many different causes, so we assessed you for  medical conditions that might raise your risk of having stroke.  In order to prevent future strokes, we plan to modify those risk  factors. Your risk factors are:   - high blood pressure - high cholesterol - heart disease   We are changing your medications as follows:   - aspirin 81 mg daily - atorvastatin 80 mg daily  Please take your other medications as prescribed.   Please follow up with Neurology and your primary care physician  as listed below.   If you experience any of the symptoms below, please seek  emergency medical attention by calling Emergency Medical  Services (dialing 911). In particular, since stroke can recur,  please pay attention to the sudden onset and persistence of  these symptoms:   - Sudden partial or complete loss of vision   - Sudden loss of the ability to speak words from your mouth   - Sudden loss of the ability to understand others speaking to  you   - Sudden weakness of one side of the body   - Sudden drooping of one side of the face   - Sudden loss of sensation of one side of the body    Sincerely,   Your ___ Neurology Team\n",
      "Dear Ms. ___,   You were hospitalized due to symptoms of slurred speech and right  sided weakness resulting from an ACUTE ISCHEMIC STROKE, a  condition where a blood vessel providing oxygen and nutrients to  the brain is blocked by a clot. The brain is the part of your  body that controls and directs all the other parts of your body,  so damage to the brain from being deprived of its blood supply  can result in a variety of symptoms.   Stroke can have many different causes, so we assessed you for  medical conditions that might raise your risk of having stroke.  In order to prevent future strokes, we plan to modify those risk  factors. Your risk factors are:   - high blood pressure - high cholesterol - heart disease   We are changing your medications as follows:\n",
      "\n",
      "################################################## Primera ##################################################\n",
      "Discharge Instructions: Dear Ms. ___,    You were hospitalized due to symptoms of slurred speech and right sided weakness  resulting from an ACUTE ISCHEMIC STROKE, a condition where a blood vessel  providing oxygen and nutrients to the brain is blocked by a clot. The brain is  the part of your body that controls and directs all the other parts of your  body, so damage to thebrain from being deprived of its blood supply can result  in a variety of symptoms.     Stroke can have many different causes, so we assessed you for medical  conditions that might raise your risk of having stroke. In order to prevent  future strokes, we plan to modify those risk factors. Your risk factors are:        - High blood pressure  - Hyperlipidemia    We are changing your medications as follows:     - We are adding medications to help with your symptoms of pain and  anxiety.  - We are stopping your blood pressure medications.    Please take your other medications as prescribed.  Please follow up with  your primary care physician and your neurologist as listed below.  You will  also need to follow up in stroke clinic.  If you experience any of the  symptoms below, please seek emergency medical attention by calling Emergency  Medical Services (dialing 911). In particular, since stroke can recur,  please pay attention to the sudden onset and persistence of these  sympotms:    - Sudden partial or complete loss of vision   (see warning signs)   (\"Sudden loss of the ability to speak,      \" - Sneeze with your mouth open  (\"Sudden partial/complete loss of sensation\")  \"  /\" Sudden loss  of the ability even of the sensation to move your face   (>1.5°)   (Sudden weakness of one side of the body  \")   \"Sudden drooping of one half of the face  (\"Sneeze-thick\"/\" Sneezy\"/\"Sneezy\")    Sincerely,  ___ Neurology Team\n"
     ]
    }
   ],
   "source": [
    "i=10\n",
    "\n",
    "print(\"#\"*50+ \" Llama-3 \" +\"#\"*50)\n",
    "print(inference_dec(di_val_dataset[text_column][i]))\n",
    "\n",
    "print()\n",
    "\n",
    "print(\"#\"*50+ \" Primera \" +\"#\"*50)\n",
    "print(inference_s2s(di_val_dataset[text_column][i]))\n"
   ]
  }
 ],
 "metadata": {
  "kernelspec": {
   "display_name": "Python 3 (ipykernel)",
   "language": "python",
   "name": "python3"
  },
  "language_info": {
   "codemirror_mode": {
    "name": "ipython",
    "version": 3
   },
   "file_extension": ".py",
   "mimetype": "text/x-python",
   "name": "python",
   "nbconvert_exporter": "python",
   "pygments_lexer": "ipython3",
   "version": "3.10.14"
  }
 },
 "nbformat": 4,
 "nbformat_minor": 5
}
